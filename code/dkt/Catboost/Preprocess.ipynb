{
 "cells": [
  {
   "cell_type": "code",
   "execution_count": 1,
   "metadata": {},
   "outputs": [],
   "source": [
    "import pandas as pd\n",
    "\n",
    "TRAIN_DATA_PATH = \"/opt/ml/input/data/train_data.csv\"\n",
    "TEST_DATA_PATH = \"/opt/ml/input/data/test_data.csv\"\n",
    "\n",
    "train_data = pd.read_csv(TRAIN_DATA_PATH)\n",
    "test_data = pd.read_csv(TEST_DATA_PATH)\n",
    "\n",
    "train_data['dataset'] = 1\n",
    "test_data['dataset'] = 2\n",
    "\n",
    "data = pd.concat([train_data, test_data])\n",
    "data = data.sort_values(by=[\"userID\", \"Timestamp\"]).reset_index(drop=True)\n",
    "\n",
    "data.to_csv(\"/opt/ml/input/data/total_data.csv\", index=False)"
   ]
  }
 ],
 "metadata": {
  "kernelspec": {
   "display_name": "Python 3.10.8 ('DKT')",
   "language": "python",
   "name": "python3"
  },
  "language_info": {
   "codemirror_mode": {
    "name": "ipython",
    "version": 3
   },
   "file_extension": ".py",
   "mimetype": "text/x-python",
   "name": "python",
   "nbconvert_exporter": "python",
   "pygments_lexer": "ipython3",
   "version": "3.10.8 (main, Nov  4 2022, 13:48:29) [GCC 11.2.0]"
  },
  "orig_nbformat": 4,
  "vscode": {
   "interpreter": {
    "hash": "2fea09555e533e26ee8ea4f3cff5e1f079edf38fbdad54f1cdb58b91cfd061ed"
   }
  }
 },
 "nbformat": 4,
 "nbformat_minor": 2
}
