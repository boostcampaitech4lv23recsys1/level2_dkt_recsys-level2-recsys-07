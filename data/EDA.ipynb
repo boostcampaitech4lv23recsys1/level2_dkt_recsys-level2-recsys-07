{
 "cells": [
  {
   "cell_type": "code",
   "execution_count": 1,
   "metadata": {},
   "outputs": [
    {
     "name": "stderr",
     "output_type": "stream",
     "text": [
      "/opt/conda/envs/dkt/lib/python3.10/site-packages/tqdm/auto.py:22: TqdmWarning: IProgress not found. Please update jupyter and ipywidgets. See https://ipywidgets.readthedocs.io/en/stable/user_install.html\n",
      "  from .autonotebook import tqdm as notebook_tqdm\n"
     ]
    }
   ],
   "source": [
    "import pandas as pd\n",
    "import numpy as np\n",
    "import seaborn as sns\n",
    "import matplotlib.pyplot as plt\n",
    "import catboost\n",
    "import random\n",
    "import os\n",
    "from catboost import CatBoostRegressor, CatBoostClassifier\n",
    "import lightgbm as lgb\n",
    "import torch\n",
    "import shap\n",
    "\n",
    "from sklearn.preprocessing import LabelEncoder\n",
    "from sklearn.model_selection import KFold, StratifiedKFold\n",
    "from sklearn.metrics import accuracy_score, roc_auc_score\n",
    "from transformers.models.bert.modeling_bert import (\n",
    "    BertConfig,\n",
    "    BertEncoder,\n",
    "    BertModel,\n",
    ")\n",
    "import warnings\n",
    "warnings.simplefilter(action='ignore', category=FutureWarning)"
   ]
  },
  {
   "cell_type": "markdown",
   "metadata": {},
   "source": [
    "# 1. EDA"
   ]
  },
  {
   "cell_type": "markdown",
   "metadata": {},
   "source": [
    "## 1) 기본 feature nunique"
   ]
  },
  {
   "cell_type": "code",
   "execution_count": null,
   "metadata": {},
   "outputs": [],
   "source": [
    "train = pd.read_csv(\"train_data2.csv\")\n"
   ]
  },
  {
   "cell_type": "code",
   "execution_count": null,
   "metadata": {},
   "outputs": [],
   "source": [
    "fig, axes = plt.subplots(1, 1, figsize=(10, 6))\n",
    "df = train.drop(['Timestamp', 'answerCode'], axis=1)\n",
    "\n",
    "sns.barplot(x=df.columns.tolist(), y=df.nunique(), ax=axes)\n",
    "\n",
    "for idx, val in enumerate(df.columns.tolist()):\n",
    "    axes.text(x=idx, y=df.nunique()[idx], s=df.nunique()[idx],\n",
    "            va='bottom', ha='center',\n",
    "            fontsize=11, fontweight='semibold'\n",
    "            )\n",
    "\n",
    "plt.show()"
   ]
  },
  {
   "cell_type": "markdown",
   "metadata": {},
   "source": [
    "## 2) groupby feature"
   ]
  },
  {
   "cell_type": "markdown",
   "metadata": {},
   "source": [
    "### (1) Tag"
   ]
  },
  {
   "cell_type": "code",
   "execution_count": null,
   "metadata": {},
   "outputs": [],
   "source": [
    "df2 = train.groupby(['KnowledgeTag']).nunique().drop(['answerCode', 'Timestamp'], axis=1)\n",
    "df2['tag_count'] = train.groupby(['KnowledgeTag']).count()['userID']"
   ]
  },
  {
   "cell_type": "code",
   "execution_count": null,
   "metadata": {},
   "outputs": [],
   "source": [
    "fig, axes = plt.subplots(4, 1, figsize=(150, 20))\n",
    "\n",
    "for idx, val in enumerate(df2):\n",
    "    sns.barplot(data=df2, x=df2.index, y=val, ax=axes[idx])\n",
    "    axes[idx].set_xticklabels(axes[idx].get_xticklabels(), rotation=90, fontsize=8)\n",
    "    # for i in range(df2.index.size):\n",
    "    #     axes[idx].text(x=i, y=df2[val][df2.index.tolist()[i]], s=df2[val][df2.index.tolist()[i]], rotation='vertical')\n",
    "\n",
    "\n",
    "plt.show()"
   ]
  },
  {
   "cell_type": "code",
   "execution_count": null,
   "metadata": {},
   "outputs": [],
   "source": [
    "df2['TagCut'] = pd.cut(df2.index, bins=df2.index.size//10)\n",
    "df2_2 = df2.groupby('TagCut').mean()"
   ]
  },
  {
   "cell_type": "code",
   "execution_count": null,
   "metadata": {},
   "outputs": [],
   "source": [
    "fig, axes = plt.subplots(4, 1, figsize=(50, 20))\n",
    "\n",
    "for idx, val in enumerate(df2_2):\n",
    "    sns.barplot(data=df2_2, x=df2_2.index, y=val, ax=axes[idx])\n",
    "    axes[idx].set_xticklabels(axes[idx].get_xticklabels(), rotation=90, fontsize=8)\n",
    "\n",
    "plt.show()"
   ]
  },
  {
   "cell_type": "markdown",
   "metadata": {},
   "source": [
    "### (2) User"
   ]
  },
  {
   "cell_type": "code",
   "execution_count": null,
   "metadata": {},
   "outputs": [],
   "source": [
    "df3 = train.groupby(['userID']).nunique().drop(['answerCode', 'Timestamp'], axis=1)\n",
    "df3['user_count'] = train.groupby(['userID']).count()['testId']"
   ]
  },
  {
   "cell_type": "code",
   "execution_count": null,
   "metadata": {},
   "outputs": [],
   "source": [
    "fig, axes = plt.subplots(4, 1, figsize=(200, 30))\n",
    "\n",
    "for idx, val in enumerate(df3):\n",
    "    sns.barplot(data=df3, x=df3.index, y=val, ax=axes[idx])\n",
    "    axes[idx].set_xticklabels(axes[idx].get_xticklabels(), rotation=90, fontsize=8)\n",
    "    # for i in range(df3.index.size):\n",
    "    #     axes[idx].text(x=i, y=df3[val][df3.index.tolist()[i]], s=df3[val][df3.index.tolist()[i]], rotation='vertical')\n"
   ]
  },
  {
   "cell_type": "code",
   "execution_count": null,
   "metadata": {},
   "outputs": [],
   "source": [
    "df3['UserCut'] = pd.cut(df3.index, bins=df3.index.size//10)\n",
    "df3_2 = df3.groupby('UserCut').mean()"
   ]
  },
  {
   "cell_type": "code",
   "execution_count": null,
   "metadata": {},
   "outputs": [],
   "source": [
    "fig, axes = plt.subplots(4, 1, figsize=(50, 20))\n",
    "\n",
    "for idx, val in enumerate(df3_2):\n",
    "    sns.barplot(data=df3_2, x=df3_2.index, y=val, ax=axes[idx])\n",
    "    axes[idx].set_xticklabels(axes[idx].get_xticklabels(), rotation=90, fontsize=8)\n",
    "\n",
    "plt.show()"
   ]
  },
  {
   "cell_type": "markdown",
   "metadata": {},
   "source": [
    "### 3) test"
   ]
  },
  {
   "cell_type": "code",
   "execution_count": null,
   "metadata": {},
   "outputs": [],
   "source": [
    "Test_label = {test:idx for idx, test in enumerate(sorted(train['testId'].unique()))}\n",
    "train['Test_label'] = train['testId'].map(Test_label)"
   ]
  },
  {
   "cell_type": "code",
   "execution_count": null,
   "metadata": {},
   "outputs": [],
   "source": [
    "df4 = train.groupby(['Test_label']).nunique().drop(['answerCode', 'Timestamp', 'testId'], axis=1)\n",
    "df4['test_count'] = train.groupby(['Test_label']).count()['userID']"
   ]
  },
  {
   "cell_type": "code",
   "execution_count": null,
   "metadata": {},
   "outputs": [],
   "source": [
    "fig, axes = plt.subplots(4, 1, figsize=(200, 30))\n",
    "\n",
    "for idx, val in enumerate(df4):\n",
    "    sns.barplot(data=df4, x=df4.index, y=val, ax=axes[idx])\n",
    "    axes[idx].set_xticklabels(axes[idx].get_xticklabels(), rotation=90, fontsize=8)\n",
    "    # for i in range(df4.index.size):\n",
    "    #     axes[idx].text(x=i, y=df4[val][df4.index.tolist()[i]], s=df4[val][df4.index.tolist()[i]], rotation='vertical')"
   ]
  },
  {
   "cell_type": "code",
   "execution_count": null,
   "metadata": {},
   "outputs": [],
   "source": [
    "df4['TestCut'] = pd.cut(df4.index, bins=df4.index.size//10)\n",
    "df4_2 = df4.groupby('TestCut').mean()"
   ]
  },
  {
   "cell_type": "code",
   "execution_count": null,
   "metadata": {},
   "outputs": [],
   "source": [
    "fig, axes = plt.subplots(4, 1, figsize=(50, 20))\n",
    "\n",
    "for idx, val in enumerate(df4_2):\n",
    "    sns.barplot(data=df4_2, x=df4_2.index, y=val, ax=axes[idx])\n",
    "    axes[idx].set_xticklabels(axes[idx].get_xticklabels(), rotation=90, fontsize=8)\n",
    "\n",
    "plt.show()"
   ]
  },
  {
   "cell_type": "markdown",
   "metadata": {},
   "source": [
    "### 4) Assessment"
   ]
  },
  {
   "cell_type": "code",
   "execution_count": null,
   "metadata": {},
   "outputs": [],
   "source": [
    "Assess_label = {test:idx for idx, test in enumerate(sorted(train['assessmentItemID'].unique()))}\n",
    "train['Assess_label'] = train['assessmentItemID'].map(Assess_label)"
   ]
  },
  {
   "cell_type": "code",
   "execution_count": null,
   "metadata": {},
   "outputs": [],
   "source": [
    "df5 = train.groupby(['Assess_label']).nunique().drop(['answerCode', 'Timestamp', 'assessmentItemID'], axis=1)\n",
    "df5 = df5.drop(['Test_label'], axis=1)\n",
    "df5['assess_count'] = train.groupby(['Assess_label']).count()['userID']"
   ]
  },
  {
   "cell_type": "code",
   "execution_count": null,
   "metadata": {},
   "outputs": [],
   "source": [
    "fig, axes = plt.subplots(4, 1, figsize=(300, 30))\n",
    "\n",
    "for idx, val in enumerate(df5):\n",
    "    sns.barplot(data=df5, x=df5.index, y=val, ax=axes[idx])\n",
    "    axes[idx].set_xticklabels(axes[idx].get_xticklabels(), rotation=90, fontsize=8)\n",
    "    # for i in range(df5.index.size):\n",
    "    #     axes[idx].text(x=i, y=df5[val][df5.index.tolist()[i]], s=df5[val][df5.index.tolist()[i]], rotation='vertical')"
   ]
  },
  {
   "cell_type": "code",
   "execution_count": null,
   "metadata": {},
   "outputs": [],
   "source": [
    "df5['AssessCut'] = pd.cut(df5.index, bins=df5.index.size//20)\n",
    "df5_2 = df5.groupby('AssessCut').mean()"
   ]
  },
  {
   "cell_type": "code",
   "execution_count": null,
   "metadata": {},
   "outputs": [],
   "source": [
    "fig, axes = plt.subplots(4, 1, figsize=(50, 20))\n",
    "\n",
    "for idx, val in enumerate(df5_2):\n",
    "    sns.barplot(data=df5_2, x=df5_2.index, y=val, ax=axes[idx])\n",
    "    axes[idx].set_xticklabels(axes[idx].get_xticklabels(), rotation=90, fontsize=8)\n",
    "\n",
    "plt.show()"
   ]
  },
  {
   "cell_type": "markdown",
   "metadata": {},
   "source": [
    "## 3) 정답수 / 정답률"
   ]
  },
  {
   "cell_type": "code",
   "execution_count": null,
   "metadata": {},
   "outputs": [],
   "source": [
    "cor = pd.DataFrame()"
   ]
  },
  {
   "cell_type": "code",
   "execution_count": null,
   "metadata": {},
   "outputs": [],
   "source": [
    "train[train['answerCode']==1]['answerCode'].count()"
   ]
  },
  {
   "cell_type": "code",
   "execution_count": null,
   "metadata": {},
   "outputs": [],
   "source": [
    "train[train['answerCode']==1]['answerCode'].count() / train['answerCode'].count()"
   ]
  },
  {
   "cell_type": "markdown",
   "metadata": {},
   "source": [
    "### (1) Tag별 정답"
   ]
  },
  {
   "cell_type": "code",
   "execution_count": null,
   "metadata": {},
   "outputs": [],
   "source": [
    "cor1 = cor.copy()\n",
    "cor1['tag_ans_cnt'] = train.groupby(['KnowledgeTag'])['answerCode'].sum()\n",
    "cor1['tag_ans_cor'] = train.groupby(['KnowledgeTag'])['answerCode'].sum() / train.groupby(['KnowledgeTag'])['answerCode'].count()"
   ]
  },
  {
   "cell_type": "code",
   "execution_count": null,
   "metadata": {},
   "outputs": [],
   "source": [
    "fig, axes = plt.subplots(2, 1, figsize=(150, 20))\n",
    "\n",
    "for idx, val in enumerate(cor1):\n",
    "    sns.barplot(data=cor1, x=cor1.index, y=val, ax=axes[idx])\n",
    "    axes[idx].set_xticklabels(axes[idx].get_xticklabels(), rotation=90, fontsize=8)\n",
    "    # for i in range(cor1.index.size):\n",
    "    #     axes[idx].text(x=i, y=cor1[val][cor1.index.tolist()[i]], s=cor1[val][cor1.index.tolist()[i]], rotation='vertical')"
   ]
  },
  {
   "cell_type": "code",
   "execution_count": null,
   "metadata": {},
   "outputs": [],
   "source": [
    "cor1['TagCut'] = pd.cut(cor1.index, bins=cor1.index.size//10)\n",
    "cor1_2 = cor1.groupby('TagCut').mean()"
   ]
  },
  {
   "cell_type": "code",
   "execution_count": null,
   "metadata": {},
   "outputs": [],
   "source": [
    "fig, axes = plt.subplots(2, 1, figsize=(50, 20))\n",
    "\n",
    "for idx, val in enumerate(cor1_2):\n",
    "    sns.barplot(data=cor1_2, x=cor1_2.index, y=val, ax=axes[idx])\n",
    "    axes[idx].set_xticklabels(axes[idx].get_xticklabels(), rotation=90, fontsize=8)\n",
    "\n",
    "plt.show()"
   ]
  },
  {
   "cell_type": "markdown",
   "metadata": {},
   "source": [
    "### (2) User별 정답"
   ]
  },
  {
   "cell_type": "code",
   "execution_count": null,
   "metadata": {},
   "outputs": [],
   "source": [
    "cor2 = cor.copy()\n",
    "cor2['user_ans_cnt'] = train.groupby(['userID'])['answerCode'].sum()\n",
    "cor2['user_ans_cor'] = (train.groupby(['userID'])['answerCode'].sum() / train.groupby(['userID'])['answerCode'].count())#.astype(int)"
   ]
  },
  {
   "cell_type": "code",
   "execution_count": null,
   "metadata": {},
   "outputs": [],
   "source": [
    "cor2"
   ]
  },
  {
   "cell_type": "code",
   "execution_count": null,
   "metadata": {},
   "outputs": [],
   "source": [
    "fig, axes = plt.subplots(2, 1, figsize=(200, 30))\n",
    "\n",
    "for idx, val in enumerate(cor2):\n",
    "    sns.barplot(data=cor2, x=cor2.index, y=val, ax=axes[idx])\n",
    "    axes[idx].set_xticklabels(axes[idx].get_xticklabels(), rotation=90, fontsize=8)\n",
    "    # for i in range(cor2.index.size):\n",
    "    #     axes[idx].text(x=i, y=cor2[val][cor2.index.tolist()[i]], s=cor2[val][cor2.index.tolist()[i]], rotation='vertical')"
   ]
  },
  {
   "cell_type": "code",
   "execution_count": null,
   "metadata": {},
   "outputs": [],
   "source": [
    "cor2['UserCut'] = pd.cut(cor2.index, bins=cor2.index.size//10)\n",
    "cor2_2 = cor2.groupby('UserCut').mean()"
   ]
  },
  {
   "cell_type": "code",
   "execution_count": null,
   "metadata": {},
   "outputs": [],
   "source": [
    "fig, axes = plt.subplots(2, 1, figsize=(50, 20))\n",
    "\n",
    "for idx, val in enumerate(cor2_2):\n",
    "    sns.barplot(data=cor2_2, x=cor2_2.index, y=val, ax=axes[idx])\n",
    "    axes[idx].set_xticklabels(axes[idx].get_xticklabels(), rotation=90, fontsize=8)\n",
    "\n",
    "plt.show()"
   ]
  },
  {
   "cell_type": "markdown",
   "metadata": {},
   "source": [
    "### (3) Test별 정답"
   ]
  },
  {
   "cell_type": "code",
   "execution_count": null,
   "metadata": {},
   "outputs": [],
   "source": [
    "cor3 = cor.copy()\n",
    "cor3['test_ans_cnt'] = train.groupby(['Test_label'])['answerCode'].sum()\n",
    "cor3['test_ans_cor'] = train.groupby(['Test_label'])['answerCode'].sum() / train.groupby(['Test_label'])['answerCode'].count()"
   ]
  },
  {
   "cell_type": "code",
   "execution_count": null,
   "metadata": {},
   "outputs": [],
   "source": [
    "fig, axes = plt.subplots(2, 1, figsize=(150, 30))\n",
    "\n",
    "for idx, val in enumerate(cor3):\n",
    "    sns.barplot(data=cor3, x=cor3.index, y=val, ax=axes[idx])\n",
    "    axes[idx].set_xticklabels(axes[idx].get_xticklabels(), rotation=90, fontsize=8)\n",
    "    # for i in range(cor3.index.size):\n",
    "    #     axes[idx].text(x=i, y=cor3[val][cor3.index.tolist()[i]], s=cor3[val][cor3.index.tolist()[i]], rotation='vertical')"
   ]
  },
  {
   "cell_type": "code",
   "execution_count": null,
   "metadata": {},
   "outputs": [],
   "source": [
    "cor3['TestCut'] = pd.cut(cor3.index, bins=cor3.index.size//10)\n",
    "cor3_2 = cor3.groupby('TestCut').mean()"
   ]
  },
  {
   "cell_type": "code",
   "execution_count": null,
   "metadata": {},
   "outputs": [],
   "source": [
    "fig, axes = plt.subplots(2, 1, figsize=(50, 20))\n",
    "\n",
    "for idx, val in enumerate(cor3_2):\n",
    "    sns.barplot(data=cor3_2, x=cor3_2.index, y=val, ax=axes[idx])\n",
    "    axes[idx].set_xticklabels(axes[idx].get_xticklabels(), rotation=90, fontsize=8)\n",
    "\n",
    "plt.show()"
   ]
  },
  {
   "cell_type": "markdown",
   "metadata": {},
   "source": [
    "### (4) Assessment별 정답"
   ]
  },
  {
   "cell_type": "code",
   "execution_count": null,
   "metadata": {},
   "outputs": [],
   "source": [
    "cor4 = cor.copy()\n",
    "cor4['test_ans_cnt'] = train.groupby(['Assess_label'])['answerCode'].sum()\n",
    "cor4['test_ans_cor'] = train.groupby(['Assess_label'])['answerCode'].sum() / train.groupby(['Assess_label'])['answerCode'].count()"
   ]
  },
  {
   "cell_type": "code",
   "execution_count": null,
   "metadata": {},
   "outputs": [],
   "source": [
    "fig, axes = plt.subplots(2, 1, figsize=(300, 30))\n",
    "\n",
    "for idx, val in enumerate(cor4):\n",
    "    sns.barplot(data=cor4, x=cor4.index, y=val, ax=axes[idx])\n",
    "    axes[idx].set_xticklabels(axes[idx].get_xticklabels(), rotation=90, fontsize=8)\n",
    "    # for i in range(cor4.index.size):\n",
    "    #     axes[idx].text(x=i, y=cor4[val][cor4.index.tolist()[i]], s=cor4[val][cor4.index.tolist()[i]], rotation='vertical')"
   ]
  },
  {
   "cell_type": "code",
   "execution_count": null,
   "metadata": {},
   "outputs": [],
   "source": [
    "cor4['TestCut'] = pd.cut(cor4.index, bins=cor4.index.size//20)\n",
    "cor4_2 = cor4.groupby('TestCut').mean()"
   ]
  },
  {
   "cell_type": "code",
   "execution_count": null,
   "metadata": {},
   "outputs": [],
   "source": [
    "fig, axes = plt.subplots(2, 1, figsize=(50, 20))\n",
    "\n",
    "for idx, val in enumerate(cor4_2):\n",
    "    sns.barplot(data=cor4_2, x=cor4_2.index, y=val, ax=axes[idx])\n",
    "    axes[idx].set_xticklabels(axes[idx].get_xticklabels(), rotation=90, fontsize=8)\n",
    "\n",
    "plt.show()"
   ]
  }
 ],
 "metadata": {
  "kernelspec": {
   "display_name": "Python 3.10.8 ('dkt')",
   "language": "python",
   "name": "python3"
  },
  "language_info": {
   "codemirror_mode": {
    "name": "ipython",
    "version": 3
   },
   "file_extension": ".py",
   "mimetype": "text/x-python",
   "name": "python",
   "nbconvert_exporter": "python",
   "pygments_lexer": "ipython3",
   "version": "3.10.8"
  },
  "orig_nbformat": 4,
  "vscode": {
   "interpreter": {
    "hash": "09d4b5de27b89318d6e35b29f9634657110a12e6b33fcea780feda7aad3e9c4b"
   }
  }
 },
 "nbformat": 4,
 "nbformat_minor": 2
}
